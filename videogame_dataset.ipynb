{
 "cells": [
  {
   "attachments": {},
   "cell_type": "markdown",
   "metadata": {},
   "source": [
    "# Video game Dataset"
   ]
  },
  {
   "attachments": {},
   "cell_type": "markdown",
   "metadata": {},
   "source": [
    "Import main libraries"
   ]
  },
  {
   "cell_type": "code",
   "execution_count": 9,
   "metadata": {},
   "outputs": [],
   "source": [
    "import pandas as pd\n",
    "import numpy as np\n",
    "import matplotlib.pyplot as plt\n",
    "import seaborn as sns\n",
    "import plotly.express as px\n"
   ]
  },
  {
   "attachments": {},
   "cell_type": "markdown",
   "metadata": {},
   "source": [
    "Warnings and max_columns"
   ]
  },
  {
   "cell_type": "code",
   "execution_count": 10,
   "metadata": {},
   "outputs": [],
   "source": [
    "import warnings\n",
    "warnings.filterwarnings(\"ignore\", category=FutureWarning)\n",
    "warnings.filterwarnings(\"ignore\", category=RuntimeWarning)\n",
    "pd.options.display.max_columns=None"
   ]
  },
  {
   "attachments": {},
   "cell_type": "markdown",
   "metadata": {},
   "source": [
    "Read the CSV"
   ]
  },
  {
   "cell_type": "code",
   "execution_count": 11,
   "metadata": {},
   "outputs": [],
   "source": [
    "df = pd.read_csv(r'C:\\Users\\Javi\\Documents\\GitHub\\Video_game_rep\\Data\\videogames_dataset.csv')"
   ]
  },
  {
   "attachments": {},
   "cell_type": "markdown",
   "metadata": {},
   "source": [
    "DataFrame"
   ]
  },
  {
   "cell_type": "code",
   "execution_count": 12,
   "metadata": {},
   "outputs": [
    {
     "data": {
      "text/html": [
       "<div>\n",
       "<style scoped>\n",
       "    .dataframe tbody tr th:only-of-type {\n",
       "        vertical-align: middle;\n",
       "    }\n",
       "\n",
       "    .dataframe tbody tr th {\n",
       "        vertical-align: top;\n",
       "    }\n",
       "\n",
       "    .dataframe thead th {\n",
       "        text-align: right;\n",
       "    }\n",
       "</style>\n",
       "<table border=\"1\" class=\"dataframe\">\n",
       "  <thead>\n",
       "    <tr style=\"text-align: right;\">\n",
       "      <th></th>\n",
       "      <th>Rank</th>\n",
       "      <th>Name</th>\n",
       "      <th>Platform</th>\n",
       "      <th>Year</th>\n",
       "      <th>Genre</th>\n",
       "      <th>Publisher</th>\n",
       "      <th>NorthAmerica_Sales</th>\n",
       "      <th>EurpeanUnion_Sales</th>\n",
       "      <th>Japan_Sales</th>\n",
       "      <th>Other_Sales</th>\n",
       "      <th>Global_Sales</th>\n",
       "    </tr>\n",
       "  </thead>\n",
       "  <tbody>\n",
       "    <tr>\n",
       "      <th>0</th>\n",
       "      <td>1</td>\n",
       "      <td>Wii Sports</td>\n",
       "      <td>Wii</td>\n",
       "      <td>2006</td>\n",
       "      <td>Sports</td>\n",
       "      <td>Nintendo</td>\n",
       "      <td>41.49</td>\n",
       "      <td>29.02</td>\n",
       "      <td>3.77</td>\n",
       "      <td>8.46</td>\n",
       "      <td>82.74</td>\n",
       "    </tr>\n",
       "    <tr>\n",
       "      <th>1</th>\n",
       "      <td>2</td>\n",
       "      <td>Super Mario Bros.</td>\n",
       "      <td>NES</td>\n",
       "      <td>1985</td>\n",
       "      <td>Platform</td>\n",
       "      <td>Nintendo</td>\n",
       "      <td>29.08</td>\n",
       "      <td>3.58</td>\n",
       "      <td>6.81</td>\n",
       "      <td>0.77</td>\n",
       "      <td>40.24</td>\n",
       "    </tr>\n",
       "    <tr>\n",
       "      <th>2</th>\n",
       "      <td>3</td>\n",
       "      <td>Mario Kart Wii</td>\n",
       "      <td>Wii</td>\n",
       "      <td>2008</td>\n",
       "      <td>Racing</td>\n",
       "      <td>Nintendo</td>\n",
       "      <td>NaN</td>\n",
       "      <td>12.88</td>\n",
       "      <td>3.79</td>\n",
       "      <td>NaN</td>\n",
       "      <td>35.82</td>\n",
       "    </tr>\n",
       "    <tr>\n",
       "      <th>3</th>\n",
       "      <td>4</td>\n",
       "      <td>Wii Sports Resort</td>\n",
       "      <td>Wii</td>\n",
       "      <td>2009</td>\n",
       "      <td>Sports</td>\n",
       "      <td>Nintendo</td>\n",
       "      <td>15.75</td>\n",
       "      <td>11.01</td>\n",
       "      <td>NaN</td>\n",
       "      <td>2.96</td>\n",
       "      <td>33.00</td>\n",
       "    </tr>\n",
       "    <tr>\n",
       "      <th>4</th>\n",
       "      <td>5</td>\n",
       "      <td>Pokemon Red/Pokemon Blue</td>\n",
       "      <td>GB</td>\n",
       "      <td>1996</td>\n",
       "      <td>Role-Playing</td>\n",
       "      <td>Nintendo</td>\n",
       "      <td>11.27</td>\n",
       "      <td>8.89</td>\n",
       "      <td>10.22</td>\n",
       "      <td>1.00</td>\n",
       "      <td>31.37</td>\n",
       "    </tr>\n",
       "    <tr>\n",
       "      <th>...</th>\n",
       "      <td>...</td>\n",
       "      <td>...</td>\n",
       "      <td>...</td>\n",
       "      <td>...</td>\n",
       "      <td>...</td>\n",
       "      <td>...</td>\n",
       "      <td>...</td>\n",
       "      <td>...</td>\n",
       "      <td>...</td>\n",
       "      <td>...</td>\n",
       "      <td>...</td>\n",
       "    </tr>\n",
       "    <tr>\n",
       "      <th>194</th>\n",
       "      <td>220</td>\n",
       "      <td>FIFA 15</td>\n",
       "      <td>PS3</td>\n",
       "      <td>2014</td>\n",
       "      <td>Sports</td>\n",
       "      <td>Electronic Arts</td>\n",
       "      <td>0.57</td>\n",
       "      <td>3.14</td>\n",
       "      <td>0.04</td>\n",
       "      <td>1.07</td>\n",
       "      <td>4.82</td>\n",
       "    </tr>\n",
       "    <tr>\n",
       "      <th>195</th>\n",
       "      <td>221</td>\n",
       "      <td>Crash Team Racing</td>\n",
       "      <td>PS</td>\n",
       "      <td>1999</td>\n",
       "      <td>Racing</td>\n",
       "      <td>Sony Computer Entertainment</td>\n",
       "      <td>2.57</td>\n",
       "      <td>1.57</td>\n",
       "      <td>0.44</td>\n",
       "      <td>0.21</td>\n",
       "      <td>4.79</td>\n",
       "    </tr>\n",
       "    <tr>\n",
       "      <th>196</th>\n",
       "      <td>222</td>\n",
       "      <td>FIFA 17</td>\n",
       "      <td>PS4</td>\n",
       "      <td>2016</td>\n",
       "      <td>Sports</td>\n",
       "      <td>Electronic Arts</td>\n",
       "      <td>0.28</td>\n",
       "      <td>3.75</td>\n",
       "      <td>0.06</td>\n",
       "      <td>0.69</td>\n",
       "      <td>4.77</td>\n",
       "    </tr>\n",
       "    <tr>\n",
       "      <th>197</th>\n",
       "      <td>223</td>\n",
       "      <td>Batman: Arkham City</td>\n",
       "      <td>X360</td>\n",
       "      <td>2011</td>\n",
       "      <td>Action</td>\n",
       "      <td>Warner Bros. Interactive Entertainment</td>\n",
       "      <td>2.99</td>\n",
       "      <td>1.31</td>\n",
       "      <td>0.04</td>\n",
       "      <td>0.41</td>\n",
       "      <td>4.76</td>\n",
       "    </tr>\n",
       "    <tr>\n",
       "      <th>198</th>\n",
       "      <td>224</td>\n",
       "      <td>Driver 2</td>\n",
       "      <td>PS</td>\n",
       "      <td>2000</td>\n",
       "      <td>Action</td>\n",
       "      <td>NaN</td>\n",
       "      <td>2.36</td>\n",
       "      <td>2.10</td>\n",
       "      <td>0.02</td>\n",
       "      <td>0.25</td>\n",
       "      <td>NaN</td>\n",
       "    </tr>\n",
       "  </tbody>\n",
       "</table>\n",
       "<p>199 rows × 11 columns</p>\n",
       "</div>"
      ],
      "text/plain": [
       "     Rank                      Name Platform  Year         Genre  \\\n",
       "0       1                Wii Sports      Wii  2006        Sports   \n",
       "1       2         Super Mario Bros.      NES  1985      Platform   \n",
       "2       3            Mario Kart Wii      Wii  2008        Racing   \n",
       "3       4         Wii Sports Resort      Wii  2009        Sports   \n",
       "4       5  Pokemon Red/Pokemon Blue       GB  1996  Role-Playing   \n",
       "..    ...                       ...      ...   ...           ...   \n",
       "194   220                   FIFA 15      PS3  2014        Sports   \n",
       "195   221         Crash Team Racing       PS  1999        Racing   \n",
       "196   222                   FIFA 17      PS4  2016        Sports   \n",
       "197   223       Batman: Arkham City     X360  2011        Action   \n",
       "198   224                  Driver 2       PS  2000        Action   \n",
       "\n",
       "                                  Publisher  NorthAmerica_Sales  \\\n",
       "0                                  Nintendo               41.49   \n",
       "1                                  Nintendo               29.08   \n",
       "2                                  Nintendo                 NaN   \n",
       "3                                  Nintendo               15.75   \n",
       "4                                  Nintendo               11.27   \n",
       "..                                      ...                 ...   \n",
       "194                         Electronic Arts                0.57   \n",
       "195             Sony Computer Entertainment                2.57   \n",
       "196                         Electronic Arts                0.28   \n",
       "197  Warner Bros. Interactive Entertainment                2.99   \n",
       "198                                     NaN                2.36   \n",
       "\n",
       "     EurpeanUnion_Sales  Japan_Sales  Other_Sales  Global_Sales  \n",
       "0                 29.02         3.77         8.46         82.74  \n",
       "1                  3.58         6.81         0.77         40.24  \n",
       "2                 12.88         3.79          NaN         35.82  \n",
       "3                 11.01          NaN         2.96         33.00  \n",
       "4                  8.89        10.22         1.00         31.37  \n",
       "..                  ...          ...          ...           ...  \n",
       "194                3.14         0.04         1.07          4.82  \n",
       "195                1.57         0.44         0.21          4.79  \n",
       "196                3.75         0.06         0.69          4.77  \n",
       "197                1.31         0.04         0.41          4.76  \n",
       "198                2.10         0.02         0.25           NaN  \n",
       "\n",
       "[199 rows x 11 columns]"
      ]
     },
     "execution_count": 12,
     "metadata": {},
     "output_type": "execute_result"
    }
   ],
   "source": [
    "df"
   ]
  },
  {
   "attachments": {},
   "cell_type": "markdown",
   "metadata": {},
   "source": [
    "Basic info"
   ]
  },
  {
   "cell_type": "code",
   "execution_count": 36,
   "metadata": {},
   "outputs": [
    {
     "name": "stdout",
     "output_type": "stream",
     "text": [
      "<class 'pandas.core.frame.DataFrame'>\n",
      "RangeIndex: 199 entries, 0 to 198\n",
      "Data columns (total 11 columns):\n",
      " #   Column              Non-Null Count  Dtype  \n",
      "---  ------              --------------  -----  \n",
      " 0   Rank                199 non-null    int64  \n",
      " 1   Name                199 non-null    object \n",
      " 2   Platform            199 non-null    object \n",
      " 3   Year                199 non-null    int64  \n",
      " 4   Genre               199 non-null    object \n",
      " 5   Publisher           199 non-null    object \n",
      " 6   NorthAmerica_Sales  185 non-null    float64\n",
      " 7   EurpeanUnion_Sales  190 non-null    float64\n",
      " 8   Japan_Sales         189 non-null    float64\n",
      " 9   Other_Sales         192 non-null    float64\n",
      " 10  Global_Sales        187 non-null    float64\n",
      "dtypes: float64(5), int64(2), object(4)\n",
      "memory usage: 17.2+ KB\n"
     ]
    }
   ],
   "source": [
    "df.info()"
   ]
  },
  {
   "cell_type": "code",
   "execution_count": 15,
   "metadata": {},
   "outputs": [
    {
     "data": {
      "text/html": [
       "<div>\n",
       "<style scoped>\n",
       "    .dataframe tbody tr th:only-of-type {\n",
       "        vertical-align: middle;\n",
       "    }\n",
       "\n",
       "    .dataframe tbody tr th {\n",
       "        vertical-align: top;\n",
       "    }\n",
       "\n",
       "    .dataframe thead th {\n",
       "        text-align: right;\n",
       "    }\n",
       "</style>\n",
       "<table border=\"1\" class=\"dataframe\">\n",
       "  <thead>\n",
       "    <tr style=\"text-align: right;\">\n",
       "      <th></th>\n",
       "      <th>count</th>\n",
       "      <th>mean</th>\n",
       "      <th>std</th>\n",
       "      <th>min</th>\n",
       "      <th>25%</th>\n",
       "      <th>50%</th>\n",
       "      <th>75%</th>\n",
       "      <th>max</th>\n",
       "    </tr>\n",
       "  </thead>\n",
       "  <tbody>\n",
       "    <tr>\n",
       "      <th>Rank</th>\n",
       "      <td>199.0</td>\n",
       "      <td>110.075377</td>\n",
       "      <td>64.928627</td>\n",
       "      <td>1.00</td>\n",
       "      <td>55.5000</td>\n",
       "      <td>107.00</td>\n",
       "      <td>163.5000</td>\n",
       "      <td>224.00</td>\n",
       "    </tr>\n",
       "    <tr>\n",
       "      <th>Year</th>\n",
       "      <td>199.0</td>\n",
       "      <td>2005.201005</td>\n",
       "      <td>7.452869</td>\n",
       "      <td>1982.00</td>\n",
       "      <td>1999.0000</td>\n",
       "      <td>2007.00</td>\n",
       "      <td>2011.0000</td>\n",
       "      <td>2016.00</td>\n",
       "    </tr>\n",
       "    <tr>\n",
       "      <th>NorthAmerica_Sales</th>\n",
       "      <td>185.0</td>\n",
       "      <td>4.701189</td>\n",
       "      <td>4.800238</td>\n",
       "      <td>0.00</td>\n",
       "      <td>2.5900</td>\n",
       "      <td>3.28</td>\n",
       "      <td>5.1700</td>\n",
       "      <td>41.49</td>\n",
       "    </tr>\n",
       "    <tr>\n",
       "      <th>EurpeanUnion_Sales</th>\n",
       "      <td>190.0</td>\n",
       "      <td>3.046368</td>\n",
       "      <td>2.856300</td>\n",
       "      <td>0.00</td>\n",
       "      <td>1.6325</td>\n",
       "      <td>2.27</td>\n",
       "      <td>3.4700</td>\n",
       "      <td>29.02</td>\n",
       "    </tr>\n",
       "    <tr>\n",
       "      <th>Japan_Sales</th>\n",
       "      <td>189.0</td>\n",
       "      <td>1.342169</td>\n",
       "      <td>1.723777</td>\n",
       "      <td>0.00</td>\n",
       "      <td>0.0800</td>\n",
       "      <td>0.65</td>\n",
       "      <td>2.0200</td>\n",
       "      <td>10.22</td>\n",
       "    </tr>\n",
       "    <tr>\n",
       "      <th>Other_Sales</th>\n",
       "      <td>192.0</td>\n",
       "      <td>0.813490</td>\n",
       "      <td>0.852163</td>\n",
       "      <td>0.00</td>\n",
       "      <td>0.2975</td>\n",
       "      <td>0.63</td>\n",
       "      <td>1.0125</td>\n",
       "      <td>8.46</td>\n",
       "    </tr>\n",
       "    <tr>\n",
       "      <th>Global_Sales</th>\n",
       "      <td>187.0</td>\n",
       "      <td>9.861658</td>\n",
       "      <td>8.301009</td>\n",
       "      <td>4.76</td>\n",
       "      <td>5.4650</td>\n",
       "      <td>7.13</td>\n",
       "      <td>10.6300</td>\n",
       "      <td>82.74</td>\n",
       "    </tr>\n",
       "  </tbody>\n",
       "</table>\n",
       "</div>"
      ],
      "text/plain": [
       "                    count         mean        std      min        25%  \\\n",
       "Rank                199.0   110.075377  64.928627     1.00    55.5000   \n",
       "Year                199.0  2005.201005   7.452869  1982.00  1999.0000   \n",
       "NorthAmerica_Sales  185.0     4.701189   4.800238     0.00     2.5900   \n",
       "EurpeanUnion_Sales  190.0     3.046368   2.856300     0.00     1.6325   \n",
       "Japan_Sales         189.0     1.342169   1.723777     0.00     0.0800   \n",
       "Other_Sales         192.0     0.813490   0.852163     0.00     0.2975   \n",
       "Global_Sales        187.0     9.861658   8.301009     4.76     5.4650   \n",
       "\n",
       "                        50%        75%      max  \n",
       "Rank                 107.00   163.5000   224.00  \n",
       "Year                2007.00  2011.0000  2016.00  \n",
       "NorthAmerica_Sales     3.28     5.1700    41.49  \n",
       "EurpeanUnion_Sales     2.27     3.4700    29.02  \n",
       "Japan_Sales            0.65     2.0200    10.22  \n",
       "Other_Sales            0.63     1.0125     8.46  \n",
       "Global_Sales           7.13    10.6300    82.74  "
      ]
     },
     "execution_count": 15,
     "metadata": {},
     "output_type": "execute_result"
    }
   ],
   "source": [
    "df.describe().T"
   ]
  },
  {
   "attachments": {},
   "cell_type": "markdown",
   "metadata": {},
   "source": [
    "We have some null values"
   ]
  },
  {
   "cell_type": "code",
   "execution_count": 33,
   "metadata": {},
   "outputs": [
    {
     "data": {
      "text/plain": [
       "Rank                   0\n",
       "Name                   0\n",
       "Platform               0\n",
       "Year                   0\n",
       "Genre                  0\n",
       "Publisher              0\n",
       "NorthAmerica_Sales    14\n",
       "EurpeanUnion_Sales     9\n",
       "Japan_Sales           10\n",
       "Other_Sales            7\n",
       "Global_Sales          12\n",
       "dtype: int64"
      ]
     },
     "execution_count": 33,
     "metadata": {},
     "output_type": "execute_result"
    }
   ],
   "source": [
    "df.isnull().sum()"
   ]
  },
  {
   "attachments": {},
   "cell_type": "markdown",
   "metadata": {},
   "source": [
    "Lets clean nulls"
   ]
  },
  {
   "attachments": {},
   "cell_type": "markdown",
   "metadata": {},
   "source": [
    "1st Publisher"
   ]
  },
  {
   "cell_type": "code",
   "execution_count": 35,
   "metadata": {},
   "outputs": [
    {
     "data": {
      "text/plain": [
       "Nintendo                                  83\n",
       "Activision                                23\n",
       "Sony Computer Entertainment               17\n",
       "Microsoft Game Studios                    15\n",
       "Electronic Arts                           12\n",
       "Take-Two Interactive                      10\n",
       "Ubisoft                                    9\n",
       "Bethesda Softworks                         4\n",
       "Capcom                                     4\n",
       "Sega                                       3\n",
       "LucasArts                                  2\n",
       "Eidos Interactive                          2\n",
       "Warner Bros. Interactive Entertainment     2\n",
       "Virgin Interactive                         2\n",
       "505 Games                                  2\n",
       "Konami Digital Entertainment               2\n",
       "SquareSoft                                 2\n",
       "Sony Computer Entertainment Europe         1\n",
       "GT Interactive                             1\n",
       "Atari                                      1\n",
       "Square Enix                                1\n",
       "Infogrames                                 1\n",
       "Name: Publisher, dtype: int64"
      ]
     },
     "execution_count": 35,
     "metadata": {},
     "output_type": "execute_result"
    }
   ],
   "source": [
    "df['Publisher'].value_counts()"
   ]
  },
  {
   "cell_type": "code",
   "execution_count": 37,
   "metadata": {},
   "outputs": [],
   "source": [
    "df.loc[198, 'Publisher'] = 'Infogrames'\n"
   ]
  },
  {
   "attachments": {},
   "cell_type": "markdown",
   "metadata": {},
   "source": [
    "This game came out for play station so with a quick search we find that the game was published by infogrames so we can fill this correctly"
   ]
  },
  {
   "attachments": {},
   "cell_type": "markdown",
   "metadata": {},
   "source": [
    "The rest of nulls are sales data so we will arrange this issue later"
   ]
  },
  {
   "attachments": {},
   "cell_type": "markdown",
   "metadata": {},
   "source": [
    "Lets's check the other columns"
   ]
  },
  {
   "attachments": {},
   "cell_type": "markdown",
   "metadata": {},
   "source": [
    "Rank has some rows missing, but is not a problem"
   ]
  },
  {
   "cell_type": "code",
   "execution_count": 22,
   "metadata": {},
   "outputs": [
    {
     "data": {
      "text/plain": [
       "array([  1,   2,   3,   4,   5,   6,   7,   8,   9,  10,  11,  12,  13,\n",
       "        14,  15,  16,  17,  19,  20,  21,  22,  23,  24,  26,  27,  28,\n",
       "        30,  31,  32,  33,  34,  35,  36,  37,  38,  40,  41,  42,  43,\n",
       "        44,  45,  46,  47,  49,  50,  51,  52,  53,  54,  55,  56,  57,\n",
       "        58,  59,  60,  61,  62,  63,  64,  65,  66,  67,  68,  69,  70,\n",
       "        71,  72,  73,  74,  75,  76,  77,  78,  79,  80,  81,  82,  83,\n",
       "        84,  85,  86,  88,  89,  90,  91,  92,  93,  94,  95,  96,  97,\n",
       "        98,  99, 100, 101, 102, 103, 104, 106, 107, 108, 109, 110, 111,\n",
       "       116, 117, 118, 119, 120, 121, 122, 123, 124, 125, 126, 127, 128,\n",
       "       129, 130, 131, 133, 134, 135, 136, 137, 138, 139, 140, 141, 142,\n",
       "       144, 145, 146, 147, 149, 150, 151, 152, 153, 154, 155, 156, 157,\n",
       "       158, 159, 160, 161, 162, 163, 164, 165, 166, 167, 169, 170, 171,\n",
       "       172, 173, 174, 176, 177, 178, 179, 182, 183, 186, 188, 189, 190,\n",
       "       192, 193, 194, 195, 197, 198, 199, 200, 201, 202, 203, 204, 205,\n",
       "       206, 207, 209, 210, 211, 213, 214, 215, 216, 217, 218, 219, 220,\n",
       "       221, 222, 223, 224], dtype=int64)"
      ]
     },
     "execution_count": 22,
     "metadata": {},
     "output_type": "execute_result"
    }
   ],
   "source": [
    "df['Rank'].unique()"
   ]
  },
  {
   "cell_type": "code",
   "execution_count": 23,
   "metadata": {},
   "outputs": [
    {
     "data": {
      "text/plain": [
       "<Axes: >"
      ]
     },
     "execution_count": 23,
     "metadata": {},
     "output_type": "execute_result"
    },
    {
     "data": {
      "image/png": "[encoded data removed]",
      "text/plain": [
       "<Figure size 640x480 with 1 Axes>"
      ]
     },
     "metadata": {},
     "output_type": "display_data"
    }
   ],
   "source": [
    "sns.lineplot(df['Rank'].unique())"
   ]
  },
  {
   "attachments": {},
   "cell_type": "markdown",
   "metadata": {},
   "source": [
    "Platform"
   ]
  },
  {
   "cell_type": "code",
   "execution_count": 40,
   "metadata": {},
   "outputs": [
    {
     "data": {
      "text/plain": [
       "PS3     31\n",
       "X360    30\n",
       "Wii     21\n",
       "DS      20\n",
       "PS      20\n",
       "GB      11\n",
       "PS4      9\n",
       "3DS      8\n",
       "N64      8\n",
       "GBA      7\n",
       "NES      7\n",
       "SNES     6\n",
       "PC       5\n",
       "PSP      4\n",
       "XOne     3\n",
       "GC       3\n",
       "XB       2\n",
       "WiiU     2\n",
       "2600     1\n",
       "GEN      1\n",
       "Name: Platform, dtype: int64"
      ]
     },
     "execution_count": 40,
     "metadata": {},
     "output_type": "execute_result"
    }
   ],
   "source": [
    "df['Platform'].value_counts()"
   ]
  },
  {
   "cell_type": "code",
   "execution_count": 51,
   "metadata": {},
   "outputs": [
    {
     "data": {
      "text/html": [
       "<div>\n",
       "<style scoped>\n",
       "    .dataframe tbody tr th:only-of-type {\n",
       "        vertical-align: middle;\n",
       "    }\n",
       "\n",
       "    .dataframe tbody tr th {\n",
       "        vertical-align: top;\n",
       "    }\n",
       "\n",
       "    .dataframe thead th {\n",
       "        text-align: right;\n",
       "    }\n",
       "</style>\n",
       "<table border=\"1\" class=\"dataframe\">\n",
       "  <thead>\n",
       "    <tr style=\"text-align: right;\">\n",
       "      <th></th>\n",
       "      <th>Rank</th>\n",
       "      <th>Name</th>\n",
       "      <th>Platform</th>\n",
       "      <th>Year</th>\n",
       "      <th>Genre</th>\n",
       "      <th>Publisher</th>\n",
       "      <th>NorthAmerica_Sales</th>\n",
       "      <th>EurpeanUnion_Sales</th>\n",
       "      <th>Japan_Sales</th>\n",
       "      <th>Other_Sales</th>\n",
       "      <th>Global_Sales</th>\n",
       "    </tr>\n",
       "  </thead>\n",
       "  <tbody>\n",
       "    <tr>\n",
       "      <th>4</th>\n",
       "      <td>5</td>\n",
       "      <td>Pokemon Red/Pokemon Blue</td>\n",
       "      <td>GB</td>\n",
       "      <td>1996</td>\n",
       "      <td>Role-Playing</td>\n",
       "      <td>Nintendo</td>\n",
       "      <td>11.27</td>\n",
       "      <td>8.89</td>\n",
       "      <td>10.22</td>\n",
       "      <td>1.00</td>\n",
       "      <td>31.37</td>\n",
       "    </tr>\n",
       "    <tr>\n",
       "      <th>5</th>\n",
       "      <td>6</td>\n",
       "      <td>Tetris</td>\n",
       "      <td>GB</td>\n",
       "      <td>1989</td>\n",
       "      <td>Puzzle</td>\n",
       "      <td>Nintendo</td>\n",
       "      <td>23.20</td>\n",
       "      <td>2.26</td>\n",
       "      <td>4.22</td>\n",
       "      <td>0.58</td>\n",
       "      <td>NaN</td>\n",
       "    </tr>\n",
       "    <tr>\n",
       "      <th>12</th>\n",
       "      <td>13</td>\n",
       "      <td>Pokemon Gold/Pokemon Silver</td>\n",
       "      <td>GB</td>\n",
       "      <td>1999</td>\n",
       "      <td>Role-Playing</td>\n",
       "      <td>Nintendo</td>\n",
       "      <td>NaN</td>\n",
       "      <td>6.18</td>\n",
       "      <td>7.20</td>\n",
       "      <td>0.71</td>\n",
       "      <td>23.10</td>\n",
       "    </tr>\n",
       "    <tr>\n",
       "      <th>20</th>\n",
       "      <td>22</td>\n",
       "      <td>Super Mario Land</td>\n",
       "      <td>GB</td>\n",
       "      <td>1989</td>\n",
       "      <td>Platform</td>\n",
       "      <td>Nintendo</td>\n",
       "      <td>NaN</td>\n",
       "      <td>2.71</td>\n",
       "      <td>4.18</td>\n",
       "      <td>0.42</td>\n",
       "      <td>18.14</td>\n",
       "    </tr>\n",
       "    <tr>\n",
       "      <th>27</th>\n",
       "      <td>31</td>\n",
       "      <td>Pokémon Yellow: Special Pikachu Edition</td>\n",
       "      <td>GB</td>\n",
       "      <td>1998</td>\n",
       "      <td>Role-Playing</td>\n",
       "      <td>Nintendo</td>\n",
       "      <td>5.89</td>\n",
       "      <td>5.04</td>\n",
       "      <td>3.12</td>\n",
       "      <td>0.59</td>\n",
       "      <td>14.64</td>\n",
       "    </tr>\n",
       "    <tr>\n",
       "      <th>45</th>\n",
       "      <td>51</td>\n",
       "      <td>Super Mario Land 2: 6 Golden Coins</td>\n",
       "      <td>GB</td>\n",
       "      <td>1992</td>\n",
       "      <td>Adventure</td>\n",
       "      <td>Nintendo</td>\n",
       "      <td>6.16</td>\n",
       "      <td>2.04</td>\n",
       "      <td>2.69</td>\n",
       "      <td>0.29</td>\n",
       "      <td>11.18</td>\n",
       "    </tr>\n",
       "    <tr>\n",
       "      <th>120</th>\n",
       "      <td>133</td>\n",
       "      <td>Pokémon Crystal Version</td>\n",
       "      <td>GB</td>\n",
       "      <td>2000</td>\n",
       "      <td>Role-Playing</td>\n",
       "      <td>Nintendo</td>\n",
       "      <td>2.55</td>\n",
       "      <td>1.56</td>\n",
       "      <td>1.29</td>\n",
       "      <td>0.99</td>\n",
       "      <td>6.39</td>\n",
       "    </tr>\n",
       "    <tr>\n",
       "      <th>155</th>\n",
       "      <td>171</td>\n",
       "      <td>Dr. Mario</td>\n",
       "      <td>GB</td>\n",
       "      <td>1989</td>\n",
       "      <td>Puzzle</td>\n",
       "      <td>Nintendo</td>\n",
       "      <td>2.18</td>\n",
       "      <td>0.96</td>\n",
       "      <td>2.00</td>\n",
       "      <td>0.20</td>\n",
       "      <td>5.34</td>\n",
       "    </tr>\n",
       "    <tr>\n",
       "      <th>156</th>\n",
       "      <td>172</td>\n",
       "      <td>Pokemon Pinball</td>\n",
       "      <td>GB</td>\n",
       "      <td>1999</td>\n",
       "      <td>Misc</td>\n",
       "      <td>Nintendo</td>\n",
       "      <td>3.02</td>\n",
       "      <td>1.12</td>\n",
       "      <td>1.01</td>\n",
       "      <td>NaN</td>\n",
       "      <td>5.31</td>\n",
       "    </tr>\n",
       "    <tr>\n",
       "      <th>169</th>\n",
       "      <td>192</td>\n",
       "      <td>Kirby's Dream Land</td>\n",
       "      <td>GB</td>\n",
       "      <td>1992</td>\n",
       "      <td>Platform</td>\n",
       "      <td>Nintendo</td>\n",
       "      <td>2.71</td>\n",
       "      <td>0.61</td>\n",
       "      <td>1.70</td>\n",
       "      <td>0.11</td>\n",
       "      <td>5.13</td>\n",
       "    </tr>\n",
       "    <tr>\n",
       "      <th>177</th>\n",
       "      <td>201</td>\n",
       "      <td>Super Mario Bros.</td>\n",
       "      <td>GB</td>\n",
       "      <td>1999</td>\n",
       "      <td>Platform</td>\n",
       "      <td>Nintendo</td>\n",
       "      <td>3.40</td>\n",
       "      <td>1.30</td>\n",
       "      <td>NaN</td>\n",
       "      <td>0.22</td>\n",
       "      <td>5.07</td>\n",
       "    </tr>\n",
       "  </tbody>\n",
       "</table>\n",
       "</div>"
      ],
      "text/plain": [
       "     Rank                                     Name Platform  Year  \\\n",
       "4       5                 Pokemon Red/Pokemon Blue       GB  1996   \n",
       "5       6                                   Tetris       GB  1989   \n",
       "12     13              Pokemon Gold/Pokemon Silver       GB  1999   \n",
       "20     22                         Super Mario Land       GB  1989   \n",
       "27     31  Pokémon Yellow: Special Pikachu Edition       GB  1998   \n",
       "45     51       Super Mario Land 2: 6 Golden Coins       GB  1992   \n",
       "120   133                  Pokémon Crystal Version       GB  2000   \n",
       "155   171                                Dr. Mario       GB  1989   \n",
       "156   172                          Pokemon Pinball       GB  1999   \n",
       "169   192                       Kirby's Dream Land       GB  1992   \n",
       "177   201                        Super Mario Bros.       GB  1999   \n",
       "\n",
       "            Genre Publisher  NorthAmerica_Sales  EurpeanUnion_Sales  \\\n",
       "4    Role-Playing  Nintendo               11.27                8.89   \n",
       "5          Puzzle  Nintendo               23.20                2.26   \n",
       "12   Role-Playing  Nintendo                 NaN                6.18   \n",
       "20       Platform  Nintendo                 NaN                2.71   \n",
       "27   Role-Playing  Nintendo                5.89                5.04   \n",
       "45      Adventure  Nintendo                6.16                2.04   \n",
       "120  Role-Playing  Nintendo                2.55                1.56   \n",
       "155        Puzzle  Nintendo                2.18                0.96   \n",
       "156          Misc  Nintendo                3.02                1.12   \n",
       "169      Platform  Nintendo                2.71                0.61   \n",
       "177      Platform  Nintendo                3.40                1.30   \n",
       "\n",
       "     Japan_Sales  Other_Sales  Global_Sales  \n",
       "4          10.22         1.00         31.37  \n",
       "5           4.22         0.58           NaN  \n",
       "12          7.20         0.71         23.10  \n",
       "20          4.18         0.42         18.14  \n",
       "27          3.12         0.59         14.64  \n",
       "45          2.69         0.29         11.18  \n",
       "120         1.29         0.99          6.39  \n",
       "155         2.00         0.20          5.34  \n",
       "156         1.01          NaN          5.31  \n",
       "169         1.70         0.11          5.13  \n",
       "177          NaN         0.22          5.07  "
      ]
     },
     "execution_count": 51,
     "metadata": {},
     "output_type": "execute_result"
    }
   ],
   "source": [
    "df[df['Platform'] == 'GB']"
   ]
  },
  {
   "attachments": {},
   "cell_type": "markdown",
   "metadata": {},
   "source": [
    "We create another df to keep clean the original"
   ]
  },
  {
   "cell_type": "code",
   "execution_count": 67,
   "metadata": {},
   "outputs": [],
   "source": [
    "df_copy = pd.DataFrame(df)"
   ]
  },
  {
   "cell_type": "code",
   "execution_count": 68,
   "metadata": {},
   "outputs": [],
   "source": [
    "from sklearn.preprocessing import LabelEncoder"
   ]
  },
  {
   "cell_type": "code",
   "execution_count": 69,
   "metadata": {},
   "outputs": [],
   "source": [
    "le = LabelEncoder()\n",
    "df_copy['Platform'] = le.fit_transform(df_copy['Platform'])"
   ]
  },
  {
   "cell_type": "code",
   "execution_count": 75,
   "metadata": {},
   "outputs": [
    {
     "data": {
      "text/plain": [
       "11    31\n",
       "17    30\n",
       "15    21\n",
       "2     20\n",
       "10    20\n",
       "3     11\n",
       "12     9\n",
       "1      8\n",
       "7      8\n",
       "4      7\n",
       "8      7\n",
       "14     6\n",
       "9      5\n",
       "13     4\n",
       "19     3\n",
       "5      3\n",
       "18     2\n",
       "16     2\n",
       "0      1\n",
       "6      1\n",
       "Name: Platform, dtype: int64"
      ]
     },
     "execution_count": 75,
     "metadata": {},
     "output_type": "execute_result"
    }
   ],
   "source": [
    "df_copy['Platform'].value_counts()"
   ]
  },
  {
   "cell_type": "code",
   "execution_count": 112,
   "metadata": {},
   "outputs": [
    {
     "data": {
      "application/vnd.plotly.v1+json": {
       "config": {
        "plotlyServerURL": "https://plot.ly"
       },
       "data": [
        {
         "alignmentgroup": "True",
         "bingroup": "x",
         "hovertemplate": "Year=%{x}<br>count=%{y}<extra></extra>",
         "legendgroup": "",
         "marker": {
          "color": "#636efa",
          "pattern": {
           "shape": ""
          }
         },
         "name": "",
         "nbinsx": 50,
         "offsetgroup": "",
         "orientation": "v",
         "showlegend": false,
         "type": "histogram",
         "x": [
          2006,
          1985,
          2008,
          2009,
          1996,
          1989,
          2006,
          2006,
          2009,
          1984,
          2005,
          2005,
          1999,
          2007,
          2009,
          2010,
          2013,
          1990,
          2005,
          2006,
          1989,
          1988,
          2013,
          2002,
          2010,
          2005,
          2011,
          1998,
          2010,
          2013,
          2015,
          2012,
          2012,
          2009,
          2011,
          2008,
          2010,
          2005,
          2011,
          2007,
          2014,
          2009,
          1996,
          2007,
          2014,
          1992,
          2008,
          1997,
          2011,
          2010,
          2009,
          2008,
          1993,
          2004,
          2004,
          2011,
          2013,
          2010,
          1996,
          2012,
          2012,
          1997,
          2013,
          2010,
          1999,
          2007,
          1994,
          2013,
          2012,
          2007,
          2011,
          1992,
          2015,
          2010,
          2004,
          2007,
          2012,
          2012,
          2009,
          1997,
          2007,
          1999,
          2008,
          1982,
          2005,
          2010,
          2015,
          2014,
          1998,
          1997,
          1988,
          2014,
          2008,
          2011,
          2006,
          2015,
          2009,
          2011,
          1998,
          1998,
          2001,
          2014,
          2015,
          2003,
          2011,
          1996,
          2010,
          2008,
          2009,
          2007,
          2011,
          2005,
          2010,
          2014,
          2010,
          2011,
          1986,
          2012,
          2001,
          2004,
          2000,
          2009,
          2010,
          2002,
          1992,
          2004,
          1999,
          2010,
          2011,
          2006,
          1992,
          2008,
          1998,
          2013,
          2008,
          2009,
          2007,
          1998,
          1996,
          2006,
          2014,
          1988,
          2009,
          1999,
          2007,
          2011,
          2009,
          2008,
          2001,
          2001,
          2001,
          1999,
          2008,
          2014,
          2009,
          1989,
          1999,
          2012,
          2000,
          1999,
          2009,
          2007,
          1997,
          2012,
          2003,
          2012,
          1995,
          2013,
          2008,
          1992,
          2010,
          2014,
          1996,
          2009,
          2014,
          2006,
          2010,
          1999,
          1996,
          1999,
          2014,
          1999,
          1998,
          2007,
          2008,
          2007,
          2007,
          2007,
          1997,
          2010,
          1990,
          2010,
          2010,
          2007,
          2014,
          1999,
          2016,
          2011,
          2000
         ],
         "xaxis": "x",
         "yaxis": "y"
        },
        {
         "alignmentgroup": "True",
         "hovertemplate": "Year=%{x}<extra></extra>",
         "legendgroup": "",
         "marker": {
          "color": "#636efa"
         },
         "name": "",
         "notched": true,
         "offsetgroup": "",
         "showlegend": false,
         "type": "box",
         "x": [
          2006,
          1985,
          2008,
          2009,
          1996,
          1989,
          2006,
          2006,
          2009,
          1984,
          2005,
          2005,
          1999,
          2007,
          2009,
          2010,
          2013,
          1990,
          2005,
          2006,
          1989,
          1988,
          2013,
          2002,
          2010,
          2005,
          2011,
          1998,
          2010,
          2013,
          2015,
          2012,
          2012,
          2009,
          2011,
          2008,
          2010,
          2005,
          2011,
          2007,
          2014,
          2009,
          1996,
          2007,
          2014,
          1992,
          2008,
          1997,
          2011,
          2010,
          2009,
          2008,
          1993,
          2004,
          2004,
          2011,
          2013,
          2010,
          1996,
          2012,
          2012,
          1997,
          2013,
          2010,
          1999,
          2007,
          1994,
          2013,
          2012,
          2007,
          2011,
          1992,
          2015,
          2010,
          2004,
          2007,
          2012,
          2012,
          2009,
          1997,
          2007,
          1999,
          2008,
          1982,
          2005,
          2010,
          2015,
          2014,
          1998,
          1997,
          1988,
          2014,
          2008,
          2011,
          2006,
          2015,
          2009,
          2011,
          1998,
          1998,
          2001,
          2014,
          2015,
          2003,
          2011,
          1996,
          2010,
          2008,
          2009,
          2007,
          2011,
          2005,
          2010,
          2014,
          2010,
          2011,
          1986,
          2012,
          2001,
          2004,
          2000,
          2009,
          2010,
          2002,
          1992,
          2004,
          1999,
          2010,
          2011,
          2006,
          1992,
          2008,
          1998,
          2013,
          2008,
          2009,
          2007,
          1998,
          1996,
          2006,
          2014,
          1988,
          2009,
          1999,
          2007,
          2011,
          2009,
          2008,
          2001,
          2001,
          2001,
          1999,
          2008,
          2014,
          2009,
          1989,
          1999,
          2012,
          2000,
          1999,
          2009,
          2007,
          1997,
          2012,
          2003,
          2012,
          1995,
          2013,
          2008,
          1992,
          2010,
          2014,
          1996,
          2009,
          2014,
          2006,
          2010,
          1999,
          1996,
          1999,
          2014,
          1999,
          1998,
          2007,
          2008,
          2007,
          2007,
          2007,
          1997,
          2010,
          1990,
          2010,
          2010,
          2007,
          2014,
          1999,
          2016,
          2011,
          2000
         ],
         "xaxis": "x2",
         "yaxis": "y2"
        }
       ],
       "layout": {
        "barmode": "relative",
        "legend": {
         "tracegroupgap": 0
        },
        "template": {
         "data": {
          "bar": [
           {
            "error_x": {
             "color": "#2a3f5f"
            },
            "error_y": {
             "color": "#2a3f5f"
            },
            "marker": {
             "line": {
              "color": "#E5ECF6",
              "width": 0.5
             },
             "pattern": {
              "fillmode": "overlay",
              "size": 10,
              "solidity": 0.2
             }
            },
            "type": "bar"
           }
          ],
          "barpolar": [
           {
            "marker": {
             "line": {
              "color": "#E5ECF6",
              "width": 0.5
             },
             "pattern": {
              "fillmode": "overlay",
              "size": 10,
              "solidity": 0.2
             }
            },
            "type": "barpolar"
           }
          ],
          "carpet": [
           {
            "aaxis": {
             "endlinecolor": "#2a3f5f",
             "gridcolor": "white",
             "linecolor": "white",
             "minorgridcolor": "white",
             "startlinecolor": "#2a3f5f"
            },
            "baxis": {
             "endlinecolor": "#2a3f5f",
             "gridcolor": "white",
             "linecolor": "white",
             "minorgridcolor": "white",
             "startlinecolor": "#2a3f5f"
            },
            "type": "carpet"
           }
          ],
          "choropleth": [
           {
            "colorbar": {
             "outlinewidth": 0,
             "ticks": ""
            },
            "type": "choropleth"
           }
          ],
          "contour": [
           {
            "colorbar": {
             "outlinewidth": 0,
             "ticks": ""
            },
            "colorscale": [
             [
              0,
              "#0d0887"
             ],
             [
              0.1111111111111111,
              "#46039f"
             ],
             [
              0.2222222222222222,
              "#7201a8"
             ],
             [
              0.3333333333333333,
              "#9c179e"
             ],
             [
              0.4444444444444444,
              "#bd3786"
             ],
             [
              0.5555555555555556,
              "#d8576b"
             ],
             [
              0.6666666666666666,
              "#ed7953"
             ],
             [
              0.7777777777777778,
              "#fb9f3a"
             ],
             [
              0.8888888888888888,
              "#fdca26"
             ],
             [
              1,
              "#f0f921"
             ]
            ],
            "type": "contour"
           }
          ],
          "contourcarpet": [
           {
            "colorbar": {
             "outlinewidth": 0,
             "ticks": ""
            },
            "type": "contourcarpet"
           }
          ],
          "heatmap": [
           {
            "colorbar": {
             "outlinewidth": 0,
             "ticks": ""
            },
            "colorscale": [
             [
              0,
              "#0d0887"
             ],
             [
              0.1111111111111111,
              "#46039f"
             ],
             [
              0.2222222222222222,
              "#7201a8"
             ],
             [
              0.3333333333333333,
              "#9c179e"
             ],
             [
              0.4444444444444444,
              "#bd3786"
             ],
             [
              0.5555555555555556,
              "#d8576b"
             ],
             [
              0.6666666666666666,
              "#ed7953"
             ],
             [
              0.7777777777777778,
              "#fb9f3a"
             ],
             [
              0.8888888888888888,
              "#fdca26"
             ],
             [
              1,
              "#f0f921"
             ]
            ],
            "type": "heatmap"
           }
          ],
          "heatmapgl": [
           {
            "colorbar": {
             "outlinewidth": 0,
             "ticks": ""
            },
            "colorscale": [
             [
              0,
              "#0d0887"
             ],
             [
              0.1111111111111111,
              "#46039f"
             ],
             [
              0.2222222222222222,
              "#7201a8"
             ],
             [
              0.3333333333333333,
              "#9c179e"
             ],
             [
              0.4444444444444444,
              "#bd3786"
             ],
             [
              0.5555555555555556,
              "#d8576b"
             ],
             [
              0.6666666666666666,
              "#ed7953"
             ],
             [
              0.7777777777777778,
              "#fb9f3a"
             ],
             [
              0.8888888888888888,
              "#fdca26"
             ],
             [
              1,
              "#f0f921"
             ]
            ],
            "type": "heatmapgl"
           }
          ],
          "histogram": [
           {
            "marker": {
             "pattern": {
              "fillmode": "overlay",
              "size": 10,
              "solidity": 0.2
             }
            },
            "type": "histogram"
           }
          ],
          "histogram2d": [
           {
            "colorbar": {
             "outlinewidth": 0,
             "ticks": ""
            },
            "colorscale": [
             [
              0,
              "#0d0887"
             ],
             [
              0.1111111111111111,
              "#46039f"
             ],
             [
              0.2222222222222222,
              "#7201a8"
             ],
             [
              0.3333333333333333,
              "#9c179e"
             ],
             [
              0.4444444444444444,
              "#bd3786"
             ],
             [
              0.5555555555555556,
              "#d8576b"
             ],
             [
              0.6666666666666666,
              "#ed7953"
             ],
             [
              0.7777777777777778,
              "#fb9f3a"
             ],
             [
              0.8888888888888888,
              "#fdca26"
             ],
             [
              1,
              "#f0f921"
             ]
            ],
            "type": "histogram2d"
           }
          ],
          "histogram2dcontour": [
           {
            "colorbar": {
             "outlinewidth": 0,
             "ticks": ""
            },
            "colorscale": [
             [
              0,
              "#0d0887"
             ],
             [
              0.1111111111111111,
              "#46039f"
             ],
             [
              0.2222222222222222,
              "#7201a8"
             ],
             [
              0.3333333333333333,
              "#9c179e"
             ],
             [
              0.4444444444444444,
              "#bd3786"
             ],
             [
              0.5555555555555556,
              "#d8576b"
             ],
             [
              0.6666666666666666,
              "#ed7953"
             ],
             [
              0.7777777777777778,
              "#fb9f3a"
             ],
             [
              0.8888888888888888,
              "#fdca26"
             ],
             [
              1,
              "#f0f921"
             ]
            ],
            "type": "histogram2dcontour"
           }
          ],
          "mesh3d": [
           {
            "colorbar": {
             "outlinewidth": 0,
             "ticks": ""
            },
            "type": "mesh3d"
           }
          ],
          "parcoords": [
           {
            "line": {
             "colorbar": {
              "outlinewidth": 0,
              "ticks": ""
             }
            },
            "type": "parcoords"
           }
          ],
          "pie": [
           {
            "automargin": true,
            "type": "pie"
           }
          ],
          "scatter": [
           {
            "fillpattern": {
             "fillmode": "overlay",
             "size": 10,
             "solidity": 0.2
            },
            "type": "scatter"
           }
          ],
          "scatter3d": [
           {
            "line": {
             "colorbar": {
              "outlinewidth": 0,
              "ticks": ""
             }
            },
            "marker": {
             "colorbar": {
              "outlinewidth": 0,
              "ticks": ""
             }
            },
            "type": "scatter3d"
           }
          ],
          "scattercarpet": [
           {
            "marker": {
             "colorbar": {
              "outlinewidth": 0,
              "ticks": ""
             }
            },
            "type": "scattercarpet"
           }
          ],
          "scattergeo": [
           {
            "marker": {
             "colorbar": {
              "outlinewidth": 0,
              "ticks": ""
             }
            },
            "type": "scattergeo"
           }
          ],
          "scattergl": [
           {
            "marker": {
             "colorbar": {
              "outlinewidth": 0,
              "ticks": ""
             }
            },
            "type": "scattergl"
           }
          ],
          "scattermapbox": [
           {
            "marker": {
             "colorbar": {
              "outlinewidth": 0,
              "ticks": ""
             }
            },
            "type": "scattermapbox"
           }
          ],
          "scatterpolar": [
           {
            "marker": {
             "colorbar": {
              "outlinewidth": 0,
              "ticks": ""
             }
            },
            "type": "scatterpolar"
           }
          ],
          "scatterpolargl": [
           {
            "marker": {
             "colorbar": {
              "outlinewidth": 0,
              "ticks": ""
             }
            },
            "type": "scatterpolargl"
           }
          ],
          "scatterternary": [
           {
            "marker": {
             "colorbar": {
              "outlinewidth": 0,
              "ticks": ""
             }
            },
            "type": "scatterternary"
           }
          ],
          "surface": [
           {
            "colorbar": {
             "outlinewidth": 0,
             "ticks": ""
            },
            "colorscale": [
             [
              0,
              "#0d0887"
             ],
             [
              0.1111111111111111,
              "#46039f"
             ],
             [
              0.2222222222222222,
              "#7201a8"
             ],
             [
              0.3333333333333333,
              "#9c179e"
             ],
             [
              0.4444444444444444,
              "#bd3786"
             ],
             [
              0.5555555555555556,
              "#d8576b"
             ],
             [
              0.6666666666666666,
              "#ed7953"
             ],
             [
              0.7777777777777778,
              "#fb9f3a"
             ],
             [
              0.8888888888888888,
              "#fdca26"
             ],
             [
              1,
              "#f0f921"
             ]
            ],
            "type": "surface"
           }
          ],
          "table": [
           {
            "cells": {
             "fill": {
              "color": "#EBF0F8"
             },
             "line": {
              "color": "white"
             }
            },
            "header": {
             "fill": {
              "color": "#C8D4E3"
             },
             "line": {
              "color": "white"
             }
            },
            "type": "table"
           }
          ]
         },
         "layout": {
          "annotationdefaults": {
           "arrowcolor": "#2a3f5f",
           "arrowhead": 0,
           "arrowwidth": 1
          },
          "autotypenumbers": "strict",
          "coloraxis": {
           "colorbar": {
            "outlinewidth": 0,
            "ticks": ""
           }
          },
          "colorscale": {
           "diverging": [
            [
             0,
             "#8e0152"
            ],
            [
             0.1,
             "#c51b7d"
            ],
            [
             0.2,
             "#de77ae"
            ],
            [
             0.3,
             "#f1b6da"
            ],
            [
             0.4,
             "#fde0ef"
            ],
            [
             0.5,
             "#f7f7f7"
            ],
            [
             0.6,
             "#e6f5d0"
            ],
            [
             0.7,
             "#b8e186"
            ],
            [
             0.8,
             "#7fbc41"
            ],
            [
             0.9,
             "#4d9221"
            ],
            [
             1,
             "#276419"
            ]
           ],
           "sequential": [
            [
             0,
             "#0d0887"
            ],
            [
             0.1111111111111111,
             "#46039f"
            ],
            [
             0.2222222222222222,
             "#7201a8"
            ],
            [
             0.3333333333333333,
             "#9c179e"
            ],
            [
             0.4444444444444444,
             "#bd3786"
            ],
            [
             0.5555555555555556,
             "#d8576b"
            ],
            [
             0.6666666666666666,
             "#ed7953"
            ],
            [
             0.7777777777777778,
             "#fb9f3a"
            ],
            [
             0.8888888888888888,
             "#fdca26"
            ],
            [
             1,
             "#f0f921"
            ]
           ],
           "sequentialminus": [
            [
             0,
             "#0d0887"
            ],
            [
             0.1111111111111111,
             "#46039f"
            ],
            [
             0.2222222222222222,
             "#7201a8"
            ],
            [
             0.3333333333333333,
             "#9c179e"
            ],
            [
             0.4444444444444444,
             "#bd3786"
            ],
            [
             0.5555555555555556,
             "#d8576b"
            ],
            [
             0.6666666666666666,
             "#ed7953"
            ],
            [
             0.7777777777777778,
             "#fb9f3a"
            ],
            [
             0.8888888888888888,
             "#fdca26"
            ],
            [
             1,
             "#f0f921"
            ]
           ]
          },
          "colorway": [
           "#636efa",
           "#EF553B",
           "#00cc96",
           "#ab63fa",
           "#FFA15A",
           "#19d3f3",
           "#FF6692",
           "#B6E880",
           "#FF97FF",
           "#FECB52"
          ],
          "font": {
           "color": "#2a3f5f"
          },
          "geo": {
           "bgcolor": "white",
           "lakecolor": "white",
           "landcolor": "#E5ECF6",
           "showlakes": true,
           "showland": true,
           "subunitcolor": "white"
          },
          "hoverlabel": {
           "align": "left"
          },
          "hovermode": "closest",
          "mapbox": {
           "style": "light"
          },
          "paper_bgcolor": "white",
          "plot_bgcolor": "#E5ECF6",
          "polar": {
           "angularaxis": {
            "gridcolor": "white",
            "linecolor": "white",
            "ticks": ""
           },
           "bgcolor": "#E5ECF6",
           "radialaxis": {
            "gridcolor": "white",
            "linecolor": "white",
            "ticks": ""
           }
          },
          "scene": {
           "xaxis": {
            "backgroundcolor": "#E5ECF6",
            "gridcolor": "white",
            "gridwidth": 2,
            "linecolor": "white",
            "showbackground": true,
            "ticks": "",
            "zerolinecolor": "white"
           },
           "yaxis": {
            "backgroundcolor": "#E5ECF6",
            "gridcolor": "white",
            "gridwidth": 2,
            "linecolor": "white",
            "showbackground": true,
            "ticks": "",
            "zerolinecolor": "white"
           },
           "zaxis": {
            "backgroundcolor": "#E5ECF6",
            "gridcolor": "white",
            "gridwidth": 2,
            "linecolor": "white",
            "showbackground": true,
            "ticks": "",
            "zerolinecolor": "white"
           }
          },
          "shapedefaults": {
           "line": {
            "color": "#2a3f5f"
           }
          },
          "ternary": {
           "aaxis": {
            "gridcolor": "white",
            "linecolor": "white",
            "ticks": ""
           },
           "baxis": {
            "gridcolor": "white",
            "linecolor": "white",
            "ticks": ""
           },
           "bgcolor": "#E5ECF6",
           "caxis": {
            "gridcolor": "white",
            "linecolor": "white",
            "ticks": ""
           }
          },
          "title": {
           "x": 0.05
          },
          "xaxis": {
           "automargin": true,
           "gridcolor": "white",
           "linecolor": "white",
           "ticks": "",
           "title": {
            "standoff": 15
           },
           "zerolinecolor": "white",
           "zerolinewidth": 2
          },
          "yaxis": {
           "automargin": true,
           "gridcolor": "white",
           "linecolor": "white",
           "ticks": "",
           "title": {
            "standoff": 15
           },
           "zerolinecolor": "white",
           "zerolinewidth": 2
          }
         }
        },
        "title": {
         "text": "Year distributión of game published"
        },
        "xaxis": {
         "anchor": "y",
         "domain": [
          0,
          1
         ],
         "title": {
          "text": "Year"
         }
        },
        "xaxis2": {
         "anchor": "y2",
         "domain": [
          0,
          1
         ],
         "matches": "x",
         "showgrid": true,
         "showticklabels": false
        },
        "yaxis": {
         "anchor": "x",
         "domain": [
          0,
          0.8316
         ],
         "title": {
          "text": "count"
         }
        },
        "yaxis2": {
         "anchor": "x2",
         "domain": [
          0.8416,
          1
         ],
         "matches": "y2",
         "showgrid": false,
         "showline": false,
         "showticklabels": false,
         "ticks": ""
        }
       }
      }
     },
     "metadata": {},
     "output_type": "display_data"
    }
   ],
   "source": [
    "fig = px.histogram(df, \n",
    "                   x = 'Year',\n",
    "                   marginal='box',\n",
    "                   nbins=50,\n",
    "                   title= 'Year distributión of game published')\n",
    "\n",
    "\n",
    "\n",
    "\n",
    "fig.show()\n"
   ]
  }
 ],
 "metadata": {
  "kernelspec": {
   "display_name": "Python 3",
   "language": "python",
   "name": "python3"
  },
  "language_info": {
   "codemirror_mode": {
    "name": "ipython",
    "version": 3
   },
   "file_extension": ".py",
   "mimetype": "text/x-python",
   "name": "python",
   "nbconvert_exporter": "python",
   "pygments_lexer": "ipython3",
   "version": "3.10.11"
  },
  "orig_nbformat": 4
 },
 "nbformat": 4,
 "nbformat_minor": 2
}
